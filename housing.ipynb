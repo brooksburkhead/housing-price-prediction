{
 "cells": [
  {
   "cell_type": "markdown",
   "metadata": {},
   "source": [
    "# Housing Price Prediction"
   ]
  },
  {
   "cell_type": "markdown",
   "metadata": {},
   "source": [
    "## Import Libraries and Modules"
   ]
  },
  {
   "cell_type": "code",
   "execution_count": 73,
   "metadata": {},
   "outputs": [],
   "source": [
    "import pandas as pd\n",
    "import numpy as np\n",
    "import matplotlib.pyplot as plt\n",
    "import seaborn as sns\n",
    "import statsmodels.api as sm\n",
    "from sklearn.model_selection import train_test_split\n",
    "from sklearn.linear_model import LinearRegression\n",
    "from sklearn.ensemble import RandomForestRegressor\n"
   ]
  },
  {
   "cell_type": "markdown",
   "metadata": {},
   "source": [
    "## Data Loading"
   ]
  },
  {
   "cell_type": "markdown",
   "metadata": {},
   "source": [
    "Data is available on AWS at https://ddc-datascience.s3-website-us-west-1.amazonaws.com/Projects/Project.2-Housing/Housing.Data.csv\n",
    "\n",
    "Data is housing data from the Boston area. Target is the price of the house, features are qualities of the house"
   ]
  },
  {
   "cell_type": "code",
   "execution_count": 2,
   "metadata": {},
   "outputs": [],
   "source": [
    "url = 'http://ddc-datascience.s3-website-us-west-1.amazonaws.com/Projects/Project.2-Housing/Housing.Data.csv'\n",
    "raw_housing_data = pd.read_csv(url)\n"
   ]
  },
  {
   "cell_type": "code",
   "execution_count": 3,
   "metadata": {},
   "outputs": [
    {
     "data": {
      "text/plain": [
       "(2637, 81)"
      ]
     },
     "execution_count": 3,
     "metadata": {},
     "output_type": "execute_result"
    }
   ],
   "source": [
    "raw_housing_data.shape\n"
   ]
  },
  {
   "cell_type": "code",
   "execution_count": 4,
   "metadata": {},
   "outputs": [
    {
     "data": {
      "text/html": [
       "<div>\n",
       "<style scoped>\n",
       "    .dataframe tbody tr th:only-of-type {\n",
       "        vertical-align: middle;\n",
       "    }\n",
       "\n",
       "    .dataframe tbody tr th {\n",
       "        vertical-align: top;\n",
       "    }\n",
       "\n",
       "    .dataframe thead th {\n",
       "        text-align: right;\n",
       "    }\n",
       "</style>\n",
       "<table border=\"1\" class=\"dataframe\">\n",
       "  <thead>\n",
       "    <tr style=\"text-align: right;\">\n",
       "      <th></th>\n",
       "      <th>PID</th>\n",
       "      <th>MS SubClass</th>\n",
       "      <th>MS Zoning</th>\n",
       "      <th>Lot Frontage</th>\n",
       "      <th>Lot Area</th>\n",
       "      <th>Street</th>\n",
       "      <th>Alley</th>\n",
       "      <th>Lot Shape</th>\n",
       "      <th>Land Contour</th>\n",
       "      <th>Utilities</th>\n",
       "      <th>...</th>\n",
       "      <th>Pool Area</th>\n",
       "      <th>Pool QC</th>\n",
       "      <th>Fence</th>\n",
       "      <th>Misc Feature</th>\n",
       "      <th>Misc Val</th>\n",
       "      <th>Mo Sold</th>\n",
       "      <th>Yr Sold</th>\n",
       "      <th>Sale Type</th>\n",
       "      <th>Sale Condition</th>\n",
       "      <th>SalePrice</th>\n",
       "    </tr>\n",
       "  </thead>\n",
       "  <tbody>\n",
       "    <tr>\n",
       "      <th>0</th>\n",
       "      <td>905101070</td>\n",
       "      <td>20</td>\n",
       "      <td>RL</td>\n",
       "      <td>62.0</td>\n",
       "      <td>14299</td>\n",
       "      <td>Pave</td>\n",
       "      <td>NaN</td>\n",
       "      <td>Reg</td>\n",
       "      <td>Lvl</td>\n",
       "      <td>AllPub</td>\n",
       "      <td>...</td>\n",
       "      <td>0</td>\n",
       "      <td>NaN</td>\n",
       "      <td>MnPrv</td>\n",
       "      <td>NaN</td>\n",
       "      <td>0</td>\n",
       "      <td>7</td>\n",
       "      <td>2007</td>\n",
       "      <td>WD</td>\n",
       "      <td>Normal</td>\n",
       "      <td>115400</td>\n",
       "    </tr>\n",
       "    <tr>\n",
       "      <th>1</th>\n",
       "      <td>905101330</td>\n",
       "      <td>90</td>\n",
       "      <td>RL</td>\n",
       "      <td>72.0</td>\n",
       "      <td>10791</td>\n",
       "      <td>Pave</td>\n",
       "      <td>NaN</td>\n",
       "      <td>Reg</td>\n",
       "      <td>Lvl</td>\n",
       "      <td>AllPub</td>\n",
       "      <td>...</td>\n",
       "      <td>0</td>\n",
       "      <td>NaN</td>\n",
       "      <td>NaN</td>\n",
       "      <td>Shed</td>\n",
       "      <td>500</td>\n",
       "      <td>10</td>\n",
       "      <td>2006</td>\n",
       "      <td>WD</td>\n",
       "      <td>Normal</td>\n",
       "      <td>90000</td>\n",
       "    </tr>\n",
       "    <tr>\n",
       "      <th>2</th>\n",
       "      <td>903454090</td>\n",
       "      <td>50</td>\n",
       "      <td>RM</td>\n",
       "      <td>50.0</td>\n",
       "      <td>9000</td>\n",
       "      <td>Pave</td>\n",
       "      <td>NaN</td>\n",
       "      <td>Reg</td>\n",
       "      <td>Bnk</td>\n",
       "      <td>AllPub</td>\n",
       "      <td>...</td>\n",
       "      <td>0</td>\n",
       "      <td>NaN</td>\n",
       "      <td>NaN</td>\n",
       "      <td>NaN</td>\n",
       "      <td>0</td>\n",
       "      <td>12</td>\n",
       "      <td>2007</td>\n",
       "      <td>WD</td>\n",
       "      <td>Normal</td>\n",
       "      <td>141000</td>\n",
       "    </tr>\n",
       "    <tr>\n",
       "      <th>3</th>\n",
       "      <td>533244030</td>\n",
       "      <td>60</td>\n",
       "      <td>FV</td>\n",
       "      <td>68.0</td>\n",
       "      <td>7379</td>\n",
       "      <td>Pave</td>\n",
       "      <td>NaN</td>\n",
       "      <td>IR1</td>\n",
       "      <td>Lvl</td>\n",
       "      <td>AllPub</td>\n",
       "      <td>...</td>\n",
       "      <td>0</td>\n",
       "      <td>NaN</td>\n",
       "      <td>NaN</td>\n",
       "      <td>NaN</td>\n",
       "      <td>0</td>\n",
       "      <td>4</td>\n",
       "      <td>2010</td>\n",
       "      <td>WD</td>\n",
       "      <td>Normal</td>\n",
       "      <td>254000</td>\n",
       "    </tr>\n",
       "    <tr>\n",
       "      <th>4</th>\n",
       "      <td>909252020</td>\n",
       "      <td>70</td>\n",
       "      <td>RL</td>\n",
       "      <td>60.0</td>\n",
       "      <td>7200</td>\n",
       "      <td>Pave</td>\n",
       "      <td>NaN</td>\n",
       "      <td>Reg</td>\n",
       "      <td>Lvl</td>\n",
       "      <td>AllPub</td>\n",
       "      <td>...</td>\n",
       "      <td>0</td>\n",
       "      <td>NaN</td>\n",
       "      <td>MnPrv</td>\n",
       "      <td>NaN</td>\n",
       "      <td>0</td>\n",
       "      <td>4</td>\n",
       "      <td>2009</td>\n",
       "      <td>WD</td>\n",
       "      <td>Normal</td>\n",
       "      <td>155000</td>\n",
       "    </tr>\n",
       "  </tbody>\n",
       "</table>\n",
       "<p>5 rows × 81 columns</p>\n",
       "</div>"
      ],
      "text/plain": [
       "         PID  MS SubClass MS Zoning  Lot Frontage  Lot Area Street Alley  \\\n",
       "0  905101070           20        RL          62.0     14299   Pave   NaN   \n",
       "1  905101330           90        RL          72.0     10791   Pave   NaN   \n",
       "2  903454090           50        RM          50.0      9000   Pave   NaN   \n",
       "3  533244030           60        FV          68.0      7379   Pave   NaN   \n",
       "4  909252020           70        RL          60.0      7200   Pave   NaN   \n",
       "\n",
       "  Lot Shape Land Contour Utilities  ... Pool Area Pool QC  Fence Misc Feature  \\\n",
       "0       Reg          Lvl    AllPub  ...         0     NaN  MnPrv          NaN   \n",
       "1       Reg          Lvl    AllPub  ...         0     NaN    NaN         Shed   \n",
       "2       Reg          Bnk    AllPub  ...         0     NaN    NaN          NaN   \n",
       "3       IR1          Lvl    AllPub  ...         0     NaN    NaN          NaN   \n",
       "4       Reg          Lvl    AllPub  ...         0     NaN  MnPrv          NaN   \n",
       "\n",
       "  Misc Val Mo Sold Yr Sold  Sale Type  Sale Condition  SalePrice  \n",
       "0        0       7    2007        WD           Normal     115400  \n",
       "1      500      10    2006        WD           Normal      90000  \n",
       "2        0      12    2007        WD           Normal     141000  \n",
       "3        0       4    2010        WD           Normal     254000  \n",
       "4        0       4    2009        WD           Normal     155000  \n",
       "\n",
       "[5 rows x 81 columns]"
      ]
     },
     "execution_count": 4,
     "metadata": {},
     "output_type": "execute_result"
    }
   ],
   "source": [
    "raw_housing_data.head()\n"
   ]
  },
  {
   "cell_type": "code",
   "execution_count": 5,
   "metadata": {},
   "outputs": [
    {
     "data": {
      "text/html": [
       "<div>\n",
       "<style scoped>\n",
       "    .dataframe tbody tr th:only-of-type {\n",
       "        vertical-align: middle;\n",
       "    }\n",
       "\n",
       "    .dataframe tbody tr th {\n",
       "        vertical-align: top;\n",
       "    }\n",
       "\n",
       "    .dataframe thead th {\n",
       "        text-align: right;\n",
       "    }\n",
       "</style>\n",
       "<table border=\"1\" class=\"dataframe\">\n",
       "  <thead>\n",
       "    <tr style=\"text-align: right;\">\n",
       "      <th></th>\n",
       "      <th>count</th>\n",
       "      <th>mean</th>\n",
       "      <th>std</th>\n",
       "      <th>min</th>\n",
       "      <th>25%</th>\n",
       "      <th>50%</th>\n",
       "      <th>75%</th>\n",
       "      <th>max</th>\n",
       "    </tr>\n",
       "  </thead>\n",
       "  <tbody>\n",
       "    <tr>\n",
       "      <th>PID</th>\n",
       "      <td>2637.0</td>\n",
       "      <td>7.141301e+08</td>\n",
       "      <td>1.887527e+08</td>\n",
       "      <td>526301100.0</td>\n",
       "      <td>5.284770e+08</td>\n",
       "      <td>535453040.0</td>\n",
       "      <td>9.071870e+08</td>\n",
       "      <td>1.007100e+09</td>\n",
       "    </tr>\n",
       "    <tr>\n",
       "      <th>MS SubClass</th>\n",
       "      <td>2637.0</td>\n",
       "      <td>5.734926e+01</td>\n",
       "      <td>4.249909e+01</td>\n",
       "      <td>20.0</td>\n",
       "      <td>2.000000e+01</td>\n",
       "      <td>50.0</td>\n",
       "      <td>7.000000e+01</td>\n",
       "      <td>1.900000e+02</td>\n",
       "    </tr>\n",
       "    <tr>\n",
       "      <th>Lot Frontage</th>\n",
       "      <td>2188.0</td>\n",
       "      <td>6.916682e+01</td>\n",
       "      <td>2.335678e+01</td>\n",
       "      <td>21.0</td>\n",
       "      <td>5.800000e+01</td>\n",
       "      <td>68.0</td>\n",
       "      <td>8.000000e+01</td>\n",
       "      <td>3.130000e+02</td>\n",
       "    </tr>\n",
       "    <tr>\n",
       "      <th>Lot Area</th>\n",
       "      <td>2637.0</td>\n",
       "      <td>1.004469e+04</td>\n",
       "      <td>6.742550e+03</td>\n",
       "      <td>1300.0</td>\n",
       "      <td>7.436000e+03</td>\n",
       "      <td>9450.0</td>\n",
       "      <td>1.152600e+04</td>\n",
       "      <td>1.646600e+05</td>\n",
       "    </tr>\n",
       "    <tr>\n",
       "      <th>Overall Qual</th>\n",
       "      <td>2637.0</td>\n",
       "      <td>6.097459e+00</td>\n",
       "      <td>1.411522e+00</td>\n",
       "      <td>1.0</td>\n",
       "      <td>5.000000e+00</td>\n",
       "      <td>6.0</td>\n",
       "      <td>7.000000e+00</td>\n",
       "      <td>1.000000e+01</td>\n",
       "    </tr>\n",
       "    <tr>\n",
       "      <th>Overall Cond</th>\n",
       "      <td>2637.0</td>\n",
       "      <td>5.569966e+00</td>\n",
       "      <td>1.118262e+00</td>\n",
       "      <td>1.0</td>\n",
       "      <td>5.000000e+00</td>\n",
       "      <td>5.0</td>\n",
       "      <td>6.000000e+00</td>\n",
       "      <td>9.000000e+00</td>\n",
       "    </tr>\n",
       "    <tr>\n",
       "      <th>Year Built</th>\n",
       "      <td>2637.0</td>\n",
       "      <td>1.971289e+03</td>\n",
       "      <td>3.030699e+01</td>\n",
       "      <td>1872.0</td>\n",
       "      <td>1.954000e+03</td>\n",
       "      <td>1973.0</td>\n",
       "      <td>2.001000e+03</td>\n",
       "      <td>2.010000e+03</td>\n",
       "    </tr>\n",
       "    <tr>\n",
       "      <th>Year Remod/Add</th>\n",
       "      <td>2637.0</td>\n",
       "      <td>1.984203e+03</td>\n",
       "      <td>2.091308e+01</td>\n",
       "      <td>1950.0</td>\n",
       "      <td>1.965000e+03</td>\n",
       "      <td>1993.0</td>\n",
       "      <td>2.004000e+03</td>\n",
       "      <td>2.010000e+03</td>\n",
       "    </tr>\n",
       "    <tr>\n",
       "      <th>Mas Vnr Area</th>\n",
       "      <td>2614.0</td>\n",
       "      <td>1.018879e+02</td>\n",
       "      <td>1.795782e+02</td>\n",
       "      <td>0.0</td>\n",
       "      <td>0.000000e+00</td>\n",
       "      <td>0.0</td>\n",
       "      <td>1.640000e+02</td>\n",
       "      <td>1.600000e+03</td>\n",
       "    </tr>\n",
       "    <tr>\n",
       "      <th>BsmtFin SF 1</th>\n",
       "      <td>2636.0</td>\n",
       "      <td>4.384412e+02</td>\n",
       "      <td>4.496023e+02</td>\n",
       "      <td>0.0</td>\n",
       "      <td>0.000000e+00</td>\n",
       "      <td>368.0</td>\n",
       "      <td>7.320000e+02</td>\n",
       "      <td>5.644000e+03</td>\n",
       "    </tr>\n",
       "    <tr>\n",
       "      <th>BsmtFin SF 2</th>\n",
       "      <td>2636.0</td>\n",
       "      <td>5.106866e+01</td>\n",
       "      <td>1.725218e+02</td>\n",
       "      <td>0.0</td>\n",
       "      <td>0.000000e+00</td>\n",
       "      <td>0.0</td>\n",
       "      <td>0.000000e+00</td>\n",
       "      <td>1.526000e+03</td>\n",
       "    </tr>\n",
       "    <tr>\n",
       "      <th>Bsmt Unf SF</th>\n",
       "      <td>2636.0</td>\n",
       "      <td>5.556692e+02</td>\n",
       "      <td>4.362232e+02</td>\n",
       "      <td>0.0</td>\n",
       "      <td>2.180000e+02</td>\n",
       "      <td>464.5</td>\n",
       "      <td>7.972500e+02</td>\n",
       "      <td>2.336000e+03</td>\n",
       "    </tr>\n",
       "    <tr>\n",
       "      <th>Total Bsmt SF</th>\n",
       "      <td>2636.0</td>\n",
       "      <td>1.045179e+03</td>\n",
       "      <td>4.296861e+02</td>\n",
       "      <td>0.0</td>\n",
       "      <td>7.920000e+02</td>\n",
       "      <td>988.0</td>\n",
       "      <td>1.290250e+03</td>\n",
       "      <td>6.110000e+03</td>\n",
       "    </tr>\n",
       "    <tr>\n",
       "      <th>1st Flr SF</th>\n",
       "      <td>2637.0</td>\n",
       "      <td>1.155506e+03</td>\n",
       "      <td>3.825975e+02</td>\n",
       "      <td>334.0</td>\n",
       "      <td>8.780000e+02</td>\n",
       "      <td>1082.0</td>\n",
       "      <td>1.380000e+03</td>\n",
       "      <td>4.692000e+03</td>\n",
       "    </tr>\n",
       "    <tr>\n",
       "      <th>2nd Flr SF</th>\n",
       "      <td>2637.0</td>\n",
       "      <td>3.370049e+02</td>\n",
       "      <td>4.277422e+02</td>\n",
       "      <td>0.0</td>\n",
       "      <td>0.000000e+00</td>\n",
       "      <td>0.0</td>\n",
       "      <td>7.080000e+02</td>\n",
       "      <td>2.065000e+03</td>\n",
       "    </tr>\n",
       "    <tr>\n",
       "      <th>Low Qual Fin SF</th>\n",
       "      <td>2637.0</td>\n",
       "      <td>4.474403e+00</td>\n",
       "      <td>4.502251e+01</td>\n",
       "      <td>0.0</td>\n",
       "      <td>0.000000e+00</td>\n",
       "      <td>0.0</td>\n",
       "      <td>0.000000e+00</td>\n",
       "      <td>1.064000e+03</td>\n",
       "    </tr>\n",
       "    <tr>\n",
       "      <th>Gr Liv Area</th>\n",
       "      <td>2637.0</td>\n",
       "      <td>1.496985e+03</td>\n",
       "      <td>4.952096e+02</td>\n",
       "      <td>334.0</td>\n",
       "      <td>1.128000e+03</td>\n",
       "      <td>1441.0</td>\n",
       "      <td>1.740000e+03</td>\n",
       "      <td>5.642000e+03</td>\n",
       "    </tr>\n",
       "    <tr>\n",
       "      <th>Bsmt Full Bath</th>\n",
       "      <td>2635.0</td>\n",
       "      <td>4.322581e-01</td>\n",
       "      <td>5.252392e-01</td>\n",
       "      <td>0.0</td>\n",
       "      <td>0.000000e+00</td>\n",
       "      <td>0.0</td>\n",
       "      <td>1.000000e+00</td>\n",
       "      <td>3.000000e+00</td>\n",
       "    </tr>\n",
       "    <tr>\n",
       "      <th>Bsmt Half Bath</th>\n",
       "      <td>2635.0</td>\n",
       "      <td>5.882353e-02</td>\n",
       "      <td>2.401296e-01</td>\n",
       "      <td>0.0</td>\n",
       "      <td>0.000000e+00</td>\n",
       "      <td>0.0</td>\n",
       "      <td>0.000000e+00</td>\n",
       "      <td>2.000000e+00</td>\n",
       "    </tr>\n",
       "    <tr>\n",
       "      <th>Full Bath</th>\n",
       "      <td>2637.0</td>\n",
       "      <td>1.559727e+00</td>\n",
       "      <td>5.501562e-01</td>\n",
       "      <td>0.0</td>\n",
       "      <td>1.000000e+00</td>\n",
       "      <td>2.0</td>\n",
       "      <td>2.000000e+00</td>\n",
       "      <td>4.000000e+00</td>\n",
       "    </tr>\n",
       "    <tr>\n",
       "      <th>Half Bath</th>\n",
       "      <td>2637.0</td>\n",
       "      <td>3.852863e-01</td>\n",
       "      <td>5.036095e-01</td>\n",
       "      <td>0.0</td>\n",
       "      <td>0.000000e+00</td>\n",
       "      <td>0.0</td>\n",
       "      <td>1.000000e+00</td>\n",
       "      <td>2.000000e+00</td>\n",
       "    </tr>\n",
       "    <tr>\n",
       "      <th>Bedroom AbvGr</th>\n",
       "      <td>2637.0</td>\n",
       "      <td>2.857793e+00</td>\n",
       "      <td>8.202835e-01</td>\n",
       "      <td>0.0</td>\n",
       "      <td>2.000000e+00</td>\n",
       "      <td>3.0</td>\n",
       "      <td>3.000000e+00</td>\n",
       "      <td>6.000000e+00</td>\n",
       "    </tr>\n",
       "    <tr>\n",
       "      <th>Kitchen AbvGr</th>\n",
       "      <td>2637.0</td>\n",
       "      <td>1.044369e+00</td>\n",
       "      <td>2.131924e-01</td>\n",
       "      <td>0.0</td>\n",
       "      <td>1.000000e+00</td>\n",
       "      <td>1.0</td>\n",
       "      <td>1.000000e+00</td>\n",
       "      <td>3.000000e+00</td>\n",
       "    </tr>\n",
       "    <tr>\n",
       "      <th>TotRms AbvGrd</th>\n",
       "      <td>2637.0</td>\n",
       "      <td>6.446720e+00</td>\n",
       "      <td>1.568342e+00</td>\n",
       "      <td>2.0</td>\n",
       "      <td>5.000000e+00</td>\n",
       "      <td>6.0</td>\n",
       "      <td>7.000000e+00</td>\n",
       "      <td>1.300000e+01</td>\n",
       "    </tr>\n",
       "    <tr>\n",
       "      <th>Fireplaces</th>\n",
       "      <td>2637.0</td>\n",
       "      <td>5.991657e-01</td>\n",
       "      <td>6.510521e-01</td>\n",
       "      <td>0.0</td>\n",
       "      <td>0.000000e+00</td>\n",
       "      <td>1.0</td>\n",
       "      <td>1.000000e+00</td>\n",
       "      <td>4.000000e+00</td>\n",
       "    </tr>\n",
       "    <tr>\n",
       "      <th>Garage Yr Blt</th>\n",
       "      <td>2490.0</td>\n",
       "      <td>1.978186e+03</td>\n",
       "      <td>2.545265e+01</td>\n",
       "      <td>1895.0</td>\n",
       "      <td>1.961000e+03</td>\n",
       "      <td>1979.0</td>\n",
       "      <td>2.002000e+03</td>\n",
       "      <td>2.207000e+03</td>\n",
       "    </tr>\n",
       "    <tr>\n",
       "      <th>Garage Cars</th>\n",
       "      <td>2636.0</td>\n",
       "      <td>1.763278e+00</td>\n",
       "      <td>7.605764e-01</td>\n",
       "      <td>0.0</td>\n",
       "      <td>1.000000e+00</td>\n",
       "      <td>2.0</td>\n",
       "      <td>2.000000e+00</td>\n",
       "      <td>5.000000e+00</td>\n",
       "    </tr>\n",
       "    <tr>\n",
       "      <th>Garage Area</th>\n",
       "      <td>2636.0</td>\n",
       "      <td>4.709681e+02</td>\n",
       "      <td>2.128169e+02</td>\n",
       "      <td>0.0</td>\n",
       "      <td>3.247500e+02</td>\n",
       "      <td>480.0</td>\n",
       "      <td>5.760000e+02</td>\n",
       "      <td>1.488000e+03</td>\n",
       "    </tr>\n",
       "    <tr>\n",
       "      <th>Wood Deck SF</th>\n",
       "      <td>2637.0</td>\n",
       "      <td>9.430527e+01</td>\n",
       "      <td>1.269273e+02</td>\n",
       "      <td>0.0</td>\n",
       "      <td>0.000000e+00</td>\n",
       "      <td>0.0</td>\n",
       "      <td>1.680000e+02</td>\n",
       "      <td>1.424000e+03</td>\n",
       "    </tr>\n",
       "    <tr>\n",
       "      <th>Open Porch SF</th>\n",
       "      <td>2637.0</td>\n",
       "      <td>4.698445e+01</td>\n",
       "      <td>6.656433e+01</td>\n",
       "      <td>0.0</td>\n",
       "      <td>0.000000e+00</td>\n",
       "      <td>27.0</td>\n",
       "      <td>7.000000e+01</td>\n",
       "      <td>7.420000e+02</td>\n",
       "    </tr>\n",
       "    <tr>\n",
       "      <th>Enclosed Porch</th>\n",
       "      <td>2637.0</td>\n",
       "      <td>2.281342e+01</td>\n",
       "      <td>6.117764e+01</td>\n",
       "      <td>0.0</td>\n",
       "      <td>0.000000e+00</td>\n",
       "      <td>0.0</td>\n",
       "      <td>0.000000e+00</td>\n",
       "      <td>5.840000e+02</td>\n",
       "    </tr>\n",
       "    <tr>\n",
       "      <th>3Ssn Porch</th>\n",
       "      <td>2637.0</td>\n",
       "      <td>2.368601e+00</td>\n",
       "      <td>2.316060e+01</td>\n",
       "      <td>0.0</td>\n",
       "      <td>0.000000e+00</td>\n",
       "      <td>0.0</td>\n",
       "      <td>0.000000e+00</td>\n",
       "      <td>4.070000e+02</td>\n",
       "    </tr>\n",
       "    <tr>\n",
       "      <th>Screen Porch</th>\n",
       "      <td>2637.0</td>\n",
       "      <td>1.577512e+01</td>\n",
       "      <td>5.578375e+01</td>\n",
       "      <td>0.0</td>\n",
       "      <td>0.000000e+00</td>\n",
       "      <td>0.0</td>\n",
       "      <td>0.000000e+00</td>\n",
       "      <td>5.760000e+02</td>\n",
       "    </tr>\n",
       "    <tr>\n",
       "      <th>Pool Area</th>\n",
       "      <td>2637.0</td>\n",
       "      <td>2.130072e+00</td>\n",
       "      <td>3.514014e+01</td>\n",
       "      <td>0.0</td>\n",
       "      <td>0.000000e+00</td>\n",
       "      <td>0.0</td>\n",
       "      <td>0.000000e+00</td>\n",
       "      <td>8.000000e+02</td>\n",
       "    </tr>\n",
       "    <tr>\n",
       "      <th>Misc Val</th>\n",
       "      <td>2637.0</td>\n",
       "      <td>4.201403e+01</td>\n",
       "      <td>3.931588e+02</td>\n",
       "      <td>0.0</td>\n",
       "      <td>0.000000e+00</td>\n",
       "      <td>0.0</td>\n",
       "      <td>0.000000e+00</td>\n",
       "      <td>1.250000e+04</td>\n",
       "    </tr>\n",
       "    <tr>\n",
       "      <th>Mo Sold</th>\n",
       "      <td>2637.0</td>\n",
       "      <td>6.243838e+00</td>\n",
       "      <td>2.722093e+00</td>\n",
       "      <td>1.0</td>\n",
       "      <td>4.000000e+00</td>\n",
       "      <td>6.0</td>\n",
       "      <td>8.000000e+00</td>\n",
       "      <td>1.200000e+01</td>\n",
       "    </tr>\n",
       "    <tr>\n",
       "      <th>Yr Sold</th>\n",
       "      <td>2637.0</td>\n",
       "      <td>2.007796e+03</td>\n",
       "      <td>1.306403e+00</td>\n",
       "      <td>2006.0</td>\n",
       "      <td>2.007000e+03</td>\n",
       "      <td>2008.0</td>\n",
       "      <td>2.009000e+03</td>\n",
       "      <td>2.010000e+03</td>\n",
       "    </tr>\n",
       "    <tr>\n",
       "      <th>SalePrice</th>\n",
       "      <td>2637.0</td>\n",
       "      <td>1.799862e+05</td>\n",
       "      <td>7.830925e+04</td>\n",
       "      <td>12789.0</td>\n",
       "      <td>1.295000e+05</td>\n",
       "      <td>160000.0</td>\n",
       "      <td>2.130000e+05</td>\n",
       "      <td>7.450000e+05</td>\n",
       "    </tr>\n",
       "  </tbody>\n",
       "</table>\n",
       "</div>"
      ],
      "text/plain": [
       "                  count          mean           std          min  \\\n",
       "PID              2637.0  7.141301e+08  1.887527e+08  526301100.0   \n",
       "MS SubClass      2637.0  5.734926e+01  4.249909e+01         20.0   \n",
       "Lot Frontage     2188.0  6.916682e+01  2.335678e+01         21.0   \n",
       "Lot Area         2637.0  1.004469e+04  6.742550e+03       1300.0   \n",
       "Overall Qual     2637.0  6.097459e+00  1.411522e+00          1.0   \n",
       "Overall Cond     2637.0  5.569966e+00  1.118262e+00          1.0   \n",
       "Year Built       2637.0  1.971289e+03  3.030699e+01       1872.0   \n",
       "Year Remod/Add   2637.0  1.984203e+03  2.091308e+01       1950.0   \n",
       "Mas Vnr Area     2614.0  1.018879e+02  1.795782e+02          0.0   \n",
       "BsmtFin SF 1     2636.0  4.384412e+02  4.496023e+02          0.0   \n",
       "BsmtFin SF 2     2636.0  5.106866e+01  1.725218e+02          0.0   \n",
       "Bsmt Unf SF      2636.0  5.556692e+02  4.362232e+02          0.0   \n",
       "Total Bsmt SF    2636.0  1.045179e+03  4.296861e+02          0.0   \n",
       "1st Flr SF       2637.0  1.155506e+03  3.825975e+02        334.0   \n",
       "2nd Flr SF       2637.0  3.370049e+02  4.277422e+02          0.0   \n",
       "Low Qual Fin SF  2637.0  4.474403e+00  4.502251e+01          0.0   \n",
       "Gr Liv Area      2637.0  1.496985e+03  4.952096e+02        334.0   \n",
       "Bsmt Full Bath   2635.0  4.322581e-01  5.252392e-01          0.0   \n",
       "Bsmt Half Bath   2635.0  5.882353e-02  2.401296e-01          0.0   \n",
       "Full Bath        2637.0  1.559727e+00  5.501562e-01          0.0   \n",
       "Half Bath        2637.0  3.852863e-01  5.036095e-01          0.0   \n",
       "Bedroom AbvGr    2637.0  2.857793e+00  8.202835e-01          0.0   \n",
       "Kitchen AbvGr    2637.0  1.044369e+00  2.131924e-01          0.0   \n",
       "TotRms AbvGrd    2637.0  6.446720e+00  1.568342e+00          2.0   \n",
       "Fireplaces       2637.0  5.991657e-01  6.510521e-01          0.0   \n",
       "Garage Yr Blt    2490.0  1.978186e+03  2.545265e+01       1895.0   \n",
       "Garage Cars      2636.0  1.763278e+00  7.605764e-01          0.0   \n",
       "Garage Area      2636.0  4.709681e+02  2.128169e+02          0.0   \n",
       "Wood Deck SF     2637.0  9.430527e+01  1.269273e+02          0.0   \n",
       "Open Porch SF    2637.0  4.698445e+01  6.656433e+01          0.0   \n",
       "Enclosed Porch   2637.0  2.281342e+01  6.117764e+01          0.0   \n",
       "3Ssn Porch       2637.0  2.368601e+00  2.316060e+01          0.0   \n",
       "Screen Porch     2637.0  1.577512e+01  5.578375e+01          0.0   \n",
       "Pool Area        2637.0  2.130072e+00  3.514014e+01          0.0   \n",
       "Misc Val         2637.0  4.201403e+01  3.931588e+02          0.0   \n",
       "Mo Sold          2637.0  6.243838e+00  2.722093e+00          1.0   \n",
       "Yr Sold          2637.0  2.007796e+03  1.306403e+00       2006.0   \n",
       "SalePrice        2637.0  1.799862e+05  7.830925e+04      12789.0   \n",
       "\n",
       "                          25%          50%           75%           max  \n",
       "PID              5.284770e+08  535453040.0  9.071870e+08  1.007100e+09  \n",
       "MS SubClass      2.000000e+01         50.0  7.000000e+01  1.900000e+02  \n",
       "Lot Frontage     5.800000e+01         68.0  8.000000e+01  3.130000e+02  \n",
       "Lot Area         7.436000e+03       9450.0  1.152600e+04  1.646600e+05  \n",
       "Overall Qual     5.000000e+00          6.0  7.000000e+00  1.000000e+01  \n",
       "Overall Cond     5.000000e+00          5.0  6.000000e+00  9.000000e+00  \n",
       "Year Built       1.954000e+03       1973.0  2.001000e+03  2.010000e+03  \n",
       "Year Remod/Add   1.965000e+03       1993.0  2.004000e+03  2.010000e+03  \n",
       "Mas Vnr Area     0.000000e+00          0.0  1.640000e+02  1.600000e+03  \n",
       "BsmtFin SF 1     0.000000e+00        368.0  7.320000e+02  5.644000e+03  \n",
       "BsmtFin SF 2     0.000000e+00          0.0  0.000000e+00  1.526000e+03  \n",
       "Bsmt Unf SF      2.180000e+02        464.5  7.972500e+02  2.336000e+03  \n",
       "Total Bsmt SF    7.920000e+02        988.0  1.290250e+03  6.110000e+03  \n",
       "1st Flr SF       8.780000e+02       1082.0  1.380000e+03  4.692000e+03  \n",
       "2nd Flr SF       0.000000e+00          0.0  7.080000e+02  2.065000e+03  \n",
       "Low Qual Fin SF  0.000000e+00          0.0  0.000000e+00  1.064000e+03  \n",
       "Gr Liv Area      1.128000e+03       1441.0  1.740000e+03  5.642000e+03  \n",
       "Bsmt Full Bath   0.000000e+00          0.0  1.000000e+00  3.000000e+00  \n",
       "Bsmt Half Bath   0.000000e+00          0.0  0.000000e+00  2.000000e+00  \n",
       "Full Bath        1.000000e+00          2.0  2.000000e+00  4.000000e+00  \n",
       "Half Bath        0.000000e+00          0.0  1.000000e+00  2.000000e+00  \n",
       "Bedroom AbvGr    2.000000e+00          3.0  3.000000e+00  6.000000e+00  \n",
       "Kitchen AbvGr    1.000000e+00          1.0  1.000000e+00  3.000000e+00  \n",
       "TotRms AbvGrd    5.000000e+00          6.0  7.000000e+00  1.300000e+01  \n",
       "Fireplaces       0.000000e+00          1.0  1.000000e+00  4.000000e+00  \n",
       "Garage Yr Blt    1.961000e+03       1979.0  2.002000e+03  2.207000e+03  \n",
       "Garage Cars      1.000000e+00          2.0  2.000000e+00  5.000000e+00  \n",
       "Garage Area      3.247500e+02        480.0  5.760000e+02  1.488000e+03  \n",
       "Wood Deck SF     0.000000e+00          0.0  1.680000e+02  1.424000e+03  \n",
       "Open Porch SF    0.000000e+00         27.0  7.000000e+01  7.420000e+02  \n",
       "Enclosed Porch   0.000000e+00          0.0  0.000000e+00  5.840000e+02  \n",
       "3Ssn Porch       0.000000e+00          0.0  0.000000e+00  4.070000e+02  \n",
       "Screen Porch     0.000000e+00          0.0  0.000000e+00  5.760000e+02  \n",
       "Pool Area        0.000000e+00          0.0  0.000000e+00  8.000000e+02  \n",
       "Misc Val         0.000000e+00          0.0  0.000000e+00  1.250000e+04  \n",
       "Mo Sold          4.000000e+00          6.0  8.000000e+00  1.200000e+01  \n",
       "Yr Sold          2.007000e+03       2008.0  2.009000e+03  2.010000e+03  \n",
       "SalePrice        1.295000e+05     160000.0  2.130000e+05  7.450000e+05  "
      ]
     },
     "execution_count": 5,
     "metadata": {},
     "output_type": "execute_result"
    }
   ],
   "source": [
    "raw_housing_data.describe().transpose()\n"
   ]
  },
  {
   "cell_type": "code",
   "execution_count": 6,
   "metadata": {},
   "outputs": [
    {
     "name": "stdout",
     "output_type": "stream",
     "text": [
      "<class 'pandas.core.frame.DataFrame'>\n",
      "RangeIndex: 2637 entries, 0 to 2636\n",
      "Data columns (total 81 columns):\n",
      " #   Column           Non-Null Count  Dtype  \n",
      "---  ------           --------------  -----  \n",
      " 0   PID              2637 non-null   int64  \n",
      " 1   MS SubClass      2637 non-null   int64  \n",
      " 2   MS Zoning        2637 non-null   object \n",
      " 3   Lot Frontage     2188 non-null   float64\n",
      " 4   Lot Area         2637 non-null   int64  \n",
      " 5   Street           2637 non-null   object \n",
      " 6   Alley            180 non-null    object \n",
      " 7   Lot Shape        2637 non-null   object \n",
      " 8   Land Contour     2637 non-null   object \n",
      " 9   Utilities        2637 non-null   object \n",
      " 10  Lot Config       2637 non-null   object \n",
      " 11  Land Slope       2637 non-null   object \n",
      " 12  Neighborhood     2637 non-null   object \n",
      " 13  Condition 1      2637 non-null   object \n",
      " 14  Condition 2      2637 non-null   object \n",
      " 15  Bldg Type        2637 non-null   object \n",
      " 16  House Style      2637 non-null   object \n",
      " 17  Overall Qual     2637 non-null   int64  \n",
      " 18  Overall Cond     2637 non-null   int64  \n",
      " 19  Year Built       2637 non-null   int64  \n",
      " 20  Year Remod/Add   2637 non-null   int64  \n",
      " 21  Roof Style       2637 non-null   object \n",
      " 22  Roof Matl        2637 non-null   object \n",
      " 23  Exterior 1st     2637 non-null   object \n",
      " 24  Exterior 2nd     2637 non-null   object \n",
      " 25  Mas Vnr Type     2614 non-null   object \n",
      " 26  Mas Vnr Area     2614 non-null   float64\n",
      " 27  Exter Qual       2637 non-null   object \n",
      " 28  Exter Cond       2637 non-null   object \n",
      " 29  Foundation       2637 non-null   object \n",
      " 30  Bsmt Qual        2564 non-null   object \n",
      " 31  Bsmt Cond        2564 non-null   object \n",
      " 32  Bsmt Exposure    2561 non-null   object \n",
      " 33  BsmtFin Type 1   2564 non-null   object \n",
      " 34  BsmtFin SF 1     2636 non-null   float64\n",
      " 35  BsmtFin Type 2   2563 non-null   object \n",
      " 36  BsmtFin SF 2     2636 non-null   float64\n",
      " 37  Bsmt Unf SF      2636 non-null   float64\n",
      " 38  Total Bsmt SF    2636 non-null   float64\n",
      " 39  Heating          2637 non-null   object \n",
      " 40  Heating QC       2637 non-null   object \n",
      " 41  Central Air      2637 non-null   object \n",
      " 42  Electrical       2637 non-null   object \n",
      " 43  1st Flr SF       2637 non-null   int64  \n",
      " 44  2nd Flr SF       2637 non-null   int64  \n",
      " 45  Low Qual Fin SF  2637 non-null   int64  \n",
      " 46  Gr Liv Area      2637 non-null   int64  \n",
      " 47  Bsmt Full Bath   2635 non-null   float64\n",
      " 48  Bsmt Half Bath   2635 non-null   float64\n",
      " 49  Full Bath        2637 non-null   int64  \n",
      " 50  Half Bath        2637 non-null   int64  \n",
      " 51  Bedroom AbvGr    2637 non-null   int64  \n",
      " 52  Kitchen AbvGr    2637 non-null   int64  \n",
      " 53  Kitchen Qual     2637 non-null   object \n",
      " 54  TotRms AbvGrd    2637 non-null   int64  \n",
      " 55  Functional       2637 non-null   object \n",
      " 56  Fireplaces       2637 non-null   int64  \n",
      " 57  Fireplace Qu     1353 non-null   object \n",
      " 58  Garage Type      2492 non-null   object \n",
      " 59  Garage Yr Blt    2490 non-null   float64\n",
      " 60  Garage Finish    2490 non-null   object \n",
      " 61  Garage Cars      2636 non-null   float64\n",
      " 62  Garage Area      2636 non-null   float64\n",
      " 63  Garage Qual      2490 non-null   object \n",
      " 64  Garage Cond      2490 non-null   object \n",
      " 65  Paved Drive      2637 non-null   object \n",
      " 66  Wood Deck SF     2637 non-null   int64  \n",
      " 67  Open Porch SF    2637 non-null   int64  \n",
      " 68  Enclosed Porch   2637 non-null   int64  \n",
      " 69  3Ssn Porch       2637 non-null   int64  \n",
      " 70  Screen Porch     2637 non-null   int64  \n",
      " 71  Pool Area        2637 non-null   int64  \n",
      " 72  Pool QC          11 non-null     object \n",
      " 73  Fence            528 non-null    object \n",
      " 74  Misc Feature     96 non-null     object \n",
      " 75  Misc Val         2637 non-null   int64  \n",
      " 76  Mo Sold          2637 non-null   int64  \n",
      " 77  Yr Sold          2637 non-null   int64  \n",
      " 78  Sale Type        2637 non-null   object \n",
      " 79  Sale Condition   2637 non-null   object \n",
      " 80  SalePrice        2637 non-null   int64  \n",
      "dtypes: float64(11), int64(27), object(43)\n",
      "memory usage: 1.6+ MB\n"
     ]
    }
   ],
   "source": [
    "raw_housing_data.info()\n"
   ]
  },
  {
   "cell_type": "markdown",
   "metadata": {},
   "source": [
    "## Data Cleaning"
   ]
  },
  {
   "cell_type": "code",
   "execution_count": 7,
   "metadata": {},
   "outputs": [],
   "source": [
    "clean_housing_data = raw_housing_data.copy()\n"
   ]
  },
  {
   "cell_type": "markdown",
   "metadata": {},
   "source": [
    "### Take Care of Nulls"
   ]
  },
  {
   "cell_type": "code",
   "execution_count": 8,
   "metadata": {},
   "outputs": [
    {
     "data": {
      "text/plain": [
       "['Alley', 'Pool QC', 'Fence', 'Misc Feature']"
      ]
     },
     "execution_count": 8,
     "metadata": {},
     "output_type": "execute_result"
    }
   ],
   "source": [
    "null_percentage = raw_housing_data.isnull().mean()\n",
    "columns_with_more_than_75_nulls = null_percentage[null_percentage > 0.75].index.tolist()\n",
    "columns_with_more_than_75_nulls\n"
   ]
  },
  {
   "cell_type": "code",
   "execution_count": 9,
   "metadata": {},
   "outputs": [
    {
     "data": {
      "text/plain": [
       "0"
      ]
     },
     "execution_count": 9,
     "metadata": {},
     "output_type": "execute_result"
    }
   ],
   "source": [
    "clean_housing_data.drop(columns=columns_with_more_than_75_nulls, inplace=True)\n",
    "clean_housing_data.dropna(inplace=True, axis=0)\n",
    "clean_housing_data.isna().sum().sum()\n"
   ]
  },
  {
   "cell_type": "markdown",
   "metadata": {},
   "source": [
    "### Drop Identifier Columns"
   ]
  },
  {
   "cell_type": "code",
   "execution_count": 10,
   "metadata": {},
   "outputs": [],
   "source": [
    "unique_counts = clean_housing_data.nunique()\n",
    "columns_with_high_unique_values = unique_counts[unique_counts > 0.9 * len(clean_housing_data)].index.tolist()\n",
    "clean_housing_data.drop(columns=columns_with_high_unique_values, inplace=True)\n"
   ]
  },
  {
   "cell_type": "markdown",
   "metadata": {},
   "source": [
    "### Drop Unary Columns"
   ]
  },
  {
   "cell_type": "code",
   "execution_count": 11,
   "metadata": {},
   "outputs": [],
   "source": [
    "unique_counts = clean_housing_data.nunique()\n",
    "columns_with_one_unique_value = unique_counts[unique_counts == 1].index.tolist()\n",
    "clean_housing_data.drop(columns=columns_with_one_unique_value, inplace=True)\n"
   ]
  },
  {
   "cell_type": "markdown",
   "metadata": {},
   "source": [
    "### One Hot Encode Categorical Columns"
   ]
  },
  {
   "cell_type": "code",
   "execution_count": 12,
   "metadata": {},
   "outputs": [
    {
     "data": {
      "text/plain": [
       "MS Zoning          5\n",
       "Street             2\n",
       "Lot Shape          4\n",
       "Land Contour       4\n",
       "Lot Config         5\n",
       "Land Slope         3\n",
       "Neighborhood      26\n",
       "Condition 1        9\n",
       "Condition 2        5\n",
       "Bldg Type          5\n",
       "House Style        8\n",
       "Roof Style         6\n",
       "Roof Matl          6\n",
       "Exterior 1st      13\n",
       "Exterior 2nd      14\n",
       "Mas Vnr Type       4\n",
       "Exter Qual         4\n",
       "Exter Cond         4\n",
       "Foundation         4\n",
       "Bsmt Qual          4\n",
       "Bsmt Cond          5\n",
       "Bsmt Exposure      4\n",
       "BsmtFin Type 1     6\n",
       "BsmtFin Type 2     6\n",
       "Heating            3\n",
       "Heating QC         4\n",
       "Central Air        2\n",
       "Electrical         3\n",
       "Kitchen Qual       4\n",
       "Functional         6\n",
       "Fireplace Qu       5\n",
       "Garage Type        6\n",
       "Garage Finish      3\n",
       "Garage Qual        4\n",
       "Garage Cond        5\n",
       "Paved Drive        3\n",
       "Sale Type          9\n",
       "Sale Condition     5\n",
       "dtype: int64"
      ]
     },
     "execution_count": 12,
     "metadata": {},
     "output_type": "execute_result"
    }
   ],
   "source": [
    "clean_housing_data.select_dtypes(include='object').nunique()\n"
   ]
  },
  {
   "cell_type": "code",
   "execution_count": 13,
   "metadata": {},
   "outputs": [
    {
     "data": {
      "text/html": [
       "<div>\n",
       "<style scoped>\n",
       "    .dataframe tbody tr th:only-of-type {\n",
       "        vertical-align: middle;\n",
       "    }\n",
       "\n",
       "    .dataframe tbody tr th {\n",
       "        vertical-align: top;\n",
       "    }\n",
       "\n",
       "    .dataframe thead th {\n",
       "        text-align: right;\n",
       "    }\n",
       "</style>\n",
       "<table border=\"1\" class=\"dataframe\">\n",
       "  <thead>\n",
       "    <tr style=\"text-align: right;\">\n",
       "      <th></th>\n",
       "      <th>MS SubClass</th>\n",
       "      <th>Lot Frontage</th>\n",
       "      <th>Lot Area</th>\n",
       "      <th>Overall Qual</th>\n",
       "      <th>Overall Cond</th>\n",
       "      <th>Year Built</th>\n",
       "      <th>Year Remod/Add</th>\n",
       "      <th>Mas Vnr Area</th>\n",
       "      <th>BsmtFin SF 1</th>\n",
       "      <th>BsmtFin SF 2</th>\n",
       "      <th>...</th>\n",
       "      <th>Sale Type_ConLD</th>\n",
       "      <th>Sale Type_ConLI</th>\n",
       "      <th>Sale Type_ConLw</th>\n",
       "      <th>Sale Type_New</th>\n",
       "      <th>Sale Type_VWD</th>\n",
       "      <th>Sale Type_WD</th>\n",
       "      <th>Sale Condition_Alloca</th>\n",
       "      <th>Sale Condition_Family</th>\n",
       "      <th>Sale Condition_Normal</th>\n",
       "      <th>Sale Condition_Partial</th>\n",
       "    </tr>\n",
       "  </thead>\n",
       "  <tbody>\n",
       "    <tr>\n",
       "      <th>2</th>\n",
       "      <td>50</td>\n",
       "      <td>50.0</td>\n",
       "      <td>9000</td>\n",
       "      <td>6</td>\n",
       "      <td>6</td>\n",
       "      <td>1937</td>\n",
       "      <td>1950</td>\n",
       "      <td>0.0</td>\n",
       "      <td>0.0</td>\n",
       "      <td>0.0</td>\n",
       "      <td>...</td>\n",
       "      <td>0</td>\n",
       "      <td>0</td>\n",
       "      <td>0</td>\n",
       "      <td>0</td>\n",
       "      <td>0</td>\n",
       "      <td>1</td>\n",
       "      <td>0</td>\n",
       "      <td>0</td>\n",
       "      <td>1</td>\n",
       "      <td>0</td>\n",
       "    </tr>\n",
       "    <tr>\n",
       "      <th>3</th>\n",
       "      <td>60</td>\n",
       "      <td>68.0</td>\n",
       "      <td>7379</td>\n",
       "      <td>8</td>\n",
       "      <td>5</td>\n",
       "      <td>2000</td>\n",
       "      <td>2000</td>\n",
       "      <td>0.0</td>\n",
       "      <td>484.0</td>\n",
       "      <td>0.0</td>\n",
       "      <td>...</td>\n",
       "      <td>0</td>\n",
       "      <td>0</td>\n",
       "      <td>0</td>\n",
       "      <td>0</td>\n",
       "      <td>0</td>\n",
       "      <td>1</td>\n",
       "      <td>0</td>\n",
       "      <td>0</td>\n",
       "      <td>1</td>\n",
       "      <td>0</td>\n",
       "    </tr>\n",
       "    <tr>\n",
       "      <th>5</th>\n",
       "      <td>20</td>\n",
       "      <td>70.0</td>\n",
       "      <td>8521</td>\n",
       "      <td>5</td>\n",
       "      <td>5</td>\n",
       "      <td>1967</td>\n",
       "      <td>1967</td>\n",
       "      <td>0.0</td>\n",
       "      <td>842.0</td>\n",
       "      <td>0.0</td>\n",
       "      <td>...</td>\n",
       "      <td>0</td>\n",
       "      <td>0</td>\n",
       "      <td>0</td>\n",
       "      <td>0</td>\n",
       "      <td>0</td>\n",
       "      <td>1</td>\n",
       "      <td>0</td>\n",
       "      <td>0</td>\n",
       "      <td>1</td>\n",
       "      <td>0</td>\n",
       "    </tr>\n",
       "    <tr>\n",
       "      <th>7</th>\n",
       "      <td>50</td>\n",
       "      <td>66.0</td>\n",
       "      <td>21780</td>\n",
       "      <td>6</td>\n",
       "      <td>7</td>\n",
       "      <td>1918</td>\n",
       "      <td>1950</td>\n",
       "      <td>0.0</td>\n",
       "      <td>0.0</td>\n",
       "      <td>0.0</td>\n",
       "      <td>...</td>\n",
       "      <td>0</td>\n",
       "      <td>0</td>\n",
       "      <td>0</td>\n",
       "      <td>0</td>\n",
       "      <td>0</td>\n",
       "      <td>1</td>\n",
       "      <td>0</td>\n",
       "      <td>0</td>\n",
       "      <td>1</td>\n",
       "      <td>0</td>\n",
       "    </tr>\n",
       "    <tr>\n",
       "      <th>11</th>\n",
       "      <td>120</td>\n",
       "      <td>41.0</td>\n",
       "      <td>6289</td>\n",
       "      <td>6</td>\n",
       "      <td>5</td>\n",
       "      <td>2005</td>\n",
       "      <td>2006</td>\n",
       "      <td>256.0</td>\n",
       "      <td>762.0</td>\n",
       "      <td>0.0</td>\n",
       "      <td>...</td>\n",
       "      <td>0</td>\n",
       "      <td>0</td>\n",
       "      <td>0</td>\n",
       "      <td>0</td>\n",
       "      <td>0</td>\n",
       "      <td>1</td>\n",
       "      <td>0</td>\n",
       "      <td>0</td>\n",
       "      <td>1</td>\n",
       "      <td>0</td>\n",
       "    </tr>\n",
       "  </tbody>\n",
       "</table>\n",
       "<p>5 rows × 217 columns</p>\n",
       "</div>"
      ],
      "text/plain": [
       "    MS SubClass  Lot Frontage  Lot Area  Overall Qual  Overall Cond  \\\n",
       "2            50          50.0      9000             6             6   \n",
       "3            60          68.0      7379             8             5   \n",
       "5            20          70.0      8521             5             5   \n",
       "7            50          66.0     21780             6             7   \n",
       "11          120          41.0      6289             6             5   \n",
       "\n",
       "    Year Built  Year Remod/Add  Mas Vnr Area  BsmtFin SF 1  BsmtFin SF 2  ...  \\\n",
       "2         1937            1950           0.0           0.0           0.0  ...   \n",
       "3         2000            2000           0.0         484.0           0.0  ...   \n",
       "5         1967            1967           0.0         842.0           0.0  ...   \n",
       "7         1918            1950           0.0           0.0           0.0  ...   \n",
       "11        2005            2006         256.0         762.0           0.0  ...   \n",
       "\n",
       "    Sale Type_ConLD  Sale Type_ConLI  Sale Type_ConLw  Sale Type_New  \\\n",
       "2                 0                0                0              0   \n",
       "3                 0                0                0              0   \n",
       "5                 0                0                0              0   \n",
       "7                 0                0                0              0   \n",
       "11                0                0                0              0   \n",
       "\n",
       "    Sale Type_VWD  Sale Type_WD   Sale Condition_Alloca  \\\n",
       "2               0              1                      0   \n",
       "3               0              1                      0   \n",
       "5               0              1                      0   \n",
       "7               0              1                      0   \n",
       "11              0              1                      0   \n",
       "\n",
       "    Sale Condition_Family  Sale Condition_Normal  Sale Condition_Partial  \n",
       "2                       0                      1                       0  \n",
       "3                       0                      1                       0  \n",
       "5                       0                      1                       0  \n",
       "7                       0                      1                       0  \n",
       "11                      0                      1                       0  \n",
       "\n",
       "[5 rows x 217 columns]"
      ]
     },
     "execution_count": 13,
     "metadata": {},
     "output_type": "execute_result"
    }
   ],
   "source": [
    "clean_housing_data = pd.get_dummies(clean_housing_data, drop_first=True)\n",
    "clean_housing_data.head()\n"
   ]
  },
  {
   "cell_type": "markdown",
   "metadata": {},
   "source": [
    "## Data Processing"
   ]
  },
  {
   "cell_type": "code",
   "execution_count": 17,
   "metadata": {},
   "outputs": [],
   "source": [
    "X = clean_housing_data.drop(columns='SalePrice')\n",
    "y = clean_housing_data['SalePrice']\n"
   ]
  },
  {
   "cell_type": "markdown",
   "metadata": {},
   "source": [
    "### Train Linear Regression Model"
   ]
  },
  {
   "cell_type": "code",
   "execution_count": 22,
   "metadata": {},
   "outputs": [],
   "source": [
    "X_train, X_test, y_train, y_test = train_test_split(X, y, test_size=0.2, random_state=42)\n",
    "model = LinearRegression()\n",
    "model.fit(X_train, y_train)\n",
    "y_pred = model.predict(X_test)\n"
   ]
  },
  {
   "cell_type": "code",
   "execution_count": 34,
   "metadata": {},
   "outputs": [
    {
     "data": {
      "image/png": "[encoded data removed]",
      "text/plain": [
       "<Figure size 640x480 with 1 Axes>"
      ]
     },
     "metadata": {},
     "output_type": "display_data"
    }
   ],
   "source": [
    "sns.scatterplot(x=y_test, y=y_pred) \n",
    "sns.lineplot(x=y_test, y=y_test, color='red')\n",
    "plt.xlabel('Actual Prices')\n",
    "plt.ylabel('Predicted Prices')\n",
    "plt.title('Actual Prices vs Predicted Prices')\n",
    "plt.show()\n"
   ]
  },
  {
   "cell_type": "markdown",
   "metadata": {},
   "source": [
    "### Residual Analysis"
   ]
  },
  {
   "cell_type": "code",
   "execution_count": 40,
   "metadata": {},
   "outputs": [
    {
     "data": {
      "image/png": "[encoded data removed]",
      "text/plain": [
       "<Figure size 640x480 with 1 Axes>"
      ]
     },
     "execution_count": 40,
     "metadata": {},
     "output_type": "execute_result"
    },
    {
     "data": {
      "image/png": "[encoded data removed]",
      "text/plain": [
       "<Figure size 640x480 with 1 Axes>"
      ]
     },
     "metadata": {},
     "output_type": "display_data"
    }
   ],
   "source": [
    "residuals = y_test - y_pred\n",
    "sm.qqplot(residuals, fit=True, line ='45')\n"
   ]
  },
  {
   "cell_type": "markdown",
   "metadata": {},
   "source": [
    "### Model Performance"
   ]
  },
  {
   "cell_type": "code",
   "execution_count": 42,
   "metadata": {},
   "outputs": [
    {
     "name": "stdout",
     "output_type": "stream",
     "text": [
      "RMSPE: 24.420742404500217%\n"
     ]
    }
   ],
   "source": [
    "rmspe = (np.sqrt(np.mean(np.square((y_test - y_pred) / y_test)))) * 100\n",
    "print(f\"RMSPE: {rmspe}%\")\n"
   ]
  },
  {
   "cell_type": "markdown",
   "metadata": {},
   "source": [
    "## Feature Selection"
   ]
  },
  {
   "cell_type": "markdown",
   "metadata": {},
   "source": [
    "- Get features most correlated with target"
   ]
  },
  {
   "cell_type": "code",
   "execution_count": 63,
   "metadata": {},
   "outputs": [
    {
     "data": {
      "text/plain": [
       "['Overall Qual',\n",
       " 'Gr Liv Area',\n",
       " 'Garage Cars',\n",
       " 'Garage Area',\n",
       " 'Total Bsmt SF',\n",
       " 'Exter Qual_TA',\n",
       " '1st Flr SF',\n",
       " 'Kitchen Qual_TA',\n",
       " 'Year Remod/Add',\n",
       " 'Garage Yr Blt',\n",
       " 'Foundation_PConc',\n",
       " 'Year Built',\n",
       " 'Mas Vnr Area',\n",
       " 'TotRms AbvGrd',\n",
       " 'Full Bath']"
      ]
     },
     "execution_count": 63,
     "metadata": {},
     "output_type": "execute_result"
    }
   ],
   "source": [
    "correlations = clean_housing_data.corr()['SalePrice'].abs().sort_values(ascending=False)\n",
    "high_correlation_features = correlations[(correlations > 0.5) & (correlations < 1)].index.tolist()\n",
    "high_correlation_features\n"
   ]
  },
  {
   "cell_type": "markdown",
   "metadata": {},
   "source": [
    "## Data Processing Part 2"
   ]
  },
  {
   "cell_type": "code",
   "execution_count": 64,
   "metadata": {},
   "outputs": [],
   "source": [
    "X = clean_housing_data[high_correlation_features]\n",
    "y = clean_housing_data['SalePrice']\n"
   ]
  },
  {
   "cell_type": "code",
   "execution_count": 65,
   "metadata": {},
   "outputs": [],
   "source": [
    "X_train, X_test, y_train, y_test = train_test_split(X, y, test_size=0.2)\n",
    "model = LinearRegression()\n",
    "model.fit(X_train, y_train)\n",
    "y_pred = model.predict(X_test)\n"
   ]
  },
  {
   "cell_type": "code",
   "execution_count": 66,
   "metadata": {},
   "outputs": [
    {
     "data": {
      "image/png": "[encoded data removed]",
      "text/plain": [
       "<Figure size 640x480 with 1 Axes>"
      ]
     },
     "metadata": {},
     "output_type": "display_data"
    }
   ],
   "source": [
    "sns.scatterplot(x=y_test, y=y_pred) \n",
    "sns.lineplot(x=y_test, y=y_test, color='red')\n",
    "plt.xlabel('Actual Prices')\n",
    "plt.ylabel('Predicted Prices')\n",
    "plt.title('Actual Prices vs Predicted Prices')\n",
    "plt.show()\n"
   ]
  },
  {
   "cell_type": "code",
   "execution_count": 67,
   "metadata": {},
   "outputs": [
    {
     "name": "stdout",
     "output_type": "stream",
     "text": [
      "RMSPE: 22.673327754847033%\n"
     ]
    }
   ],
   "source": [
    "rmspe = (np.sqrt(np.mean(np.square((y_test - y_pred) / y_test)))) * 100\n",
    "print(f\"RMSPE: {rmspe}%\")\n"
   ]
  },
  {
   "cell_type": "markdown",
   "metadata": {},
   "source": [
    "### Cross Validation"
   ]
  },
  {
   "cell_type": "code",
   "execution_count": 79,
   "metadata": {},
   "outputs": [],
   "source": [
    "def cross_validate(model, X, y, cv=5) -> np.array:\n",
    "    \"\"\"\n",
    "    Cross validate a model using the root mean squared percentage error (RMSPE) as the scoring metric.\n",
    "\n",
    "    Args:\n",
    "        X (np.array): Predictors\n",
    "        y (np.array): Target\n",
    "        cv (int, optional): Number of cross validation loops to perform. Defaults to 5.\n",
    "\n",
    "    Returns:\n",
    "        np.array[float]: Array of RMSPE values for each cross validation loop\n",
    "    \"\"\"\n",
    "    rmspe = np.zeros(cv)\n",
    "    \n",
    "    for i in range(cv):\n",
    "        X_train, X_test, y_train, y_test = train_test_split(X, y, test_size=0.2, random_state=i)\n",
    "        model.fit(X_train, y_train)\n",
    "        y_pred = model.predict(X_test)\n",
    "        rmspe[i] = (np.sqrt(np.mean(np.square((y_test - y_pred) / y_test)))) * 100\n",
    "        \n",
    "    return rmspe\n",
    "\n"
   ]
  },
  {
   "cell_type": "code",
   "execution_count": 70,
   "metadata": {},
   "outputs": [
    {
     "data": {
      "text/plain": [
       "23.55"
      ]
     },
     "execution_count": 70,
     "metadata": {},
     "output_type": "execute_result"
    }
   ],
   "source": [
    "rmspe_scores = cross_validate(LinearRegression(),X, y, cv=100)\n",
    "round(rmspe_scores.mean(), 2)\n"
   ]
  },
  {
   "cell_type": "code",
   "execution_count": 71,
   "metadata": {},
   "outputs": [
    {
     "data": {
      "image/png": "[encoded data removed]",
      "text/plain": [
       "<Figure size 640x480 with 1 Axes>"
      ]
     },
     "execution_count": 71,
     "metadata": {},
     "output_type": "execute_result"
    },
    {
     "data": {
      "image/png": "[encoded data removed]",
      "text/plain": [
       "<Figure size 640x480 with 1 Axes>"
      ]
     },
     "metadata": {},
     "output_type": "display_data"
    }
   ],
   "source": [
    "residuals = y_test - y_pred\n",
    "sm.qqplot(residuals, fit=True, line ='45')\n"
   ]
  },
  {
   "cell_type": "markdown",
   "metadata": {},
   "source": [
    "## Data Processing Part 3"
   ]
  },
  {
   "cell_type": "code",
   "execution_count": null,
   "metadata": {},
   "outputs": [],
   "source": [
    "X = clean_housing_data[high_correlation_features]\n",
    "y = clean_housing_data['SalePrice']\n"
   ]
  },
  {
   "cell_type": "markdown",
   "metadata": {},
   "source": [
    "### Train a Random Forest Model"
   ]
  },
  {
   "cell_type": "code",
   "execution_count": 85,
   "metadata": {},
   "outputs": [
    {
     "data": {
      "text/plain": [
       "0.8784924265508527"
      ]
     },
     "execution_count": 85,
     "metadata": {},
     "output_type": "execute_result"
    }
   ],
   "source": [
    "X_train, X_test, y_train, y_test = train_test_split(X, y, test_size=0.2)\n",
    "model = RandomForestRegressor(n_estimators=100)\n",
    "model.fit(X_train, y_train)\n",
    "y_pred = model.predict(X_test)\n",
    "model.score(X_test, y_test)\n",
    "\n"
   ]
  },
  {
   "cell_type": "code",
   "execution_count": 86,
   "metadata": {},
   "outputs": [
    {
     "data": {
      "text/plain": [
       "15.189342132156927"
      ]
     },
     "execution_count": 86,
     "metadata": {},
     "output_type": "execute_result"
    }
   ],
   "source": [
    "rmspe = (np.sqrt(np.mean(np.square((y_test - y_pred) / y_test)))) * 100\n",
    "rmspe\n"
   ]
  },
  {
   "cell_type": "code",
   "execution_count": 87,
   "metadata": {},
   "outputs": [
    {
     "data": {
      "text/plain": [
       "27.813396592310504"
      ]
     },
     "execution_count": 87,
     "metadata": {},
     "output_type": "execute_result"
    }
   ],
   "source": [
    "cross_validate(RandomForestRegressor(n_estimators=100), X, y, cv=100).mean()\n"
   ]
  }
 ],
 "metadata": {
  "kernelspec": {
   "display_name": "base",
   "language": "python",
   "name": "python3"
  },
  "language_info": {
   "codemirror_mode": {
    "name": "ipython",
    "version": 3
   },
   "file_extension": ".py",
   "mimetype": "text/x-python",
   "name": "python",
   "nbconvert_exporter": "python",
   "pygments_lexer": "ipython3",
   "version": "3.11.4"
  }
 },
 "nbformat": 4,
 "nbformat_minor": 2
}
